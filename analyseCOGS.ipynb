{
 "cells": [
  {
   "cell_type": "code",
   "execution_count": null,
   "id": "a2951e3f-a329-42a8-b376-f46c478124dd",
   "metadata": {},
   "outputs": [],
   "source": [
    "# Import Libraries\n",
    "import pandas as pd\n",
    "import matplotlib.pyplot as plt\n",
    "\n",
    "pd.options.display.max_rows = 5\n",
    "pd.options.mode.copy_on_write = True\n",
    "# Define the file paths for the two CSV files\n",
    "podInstancesInput = ''\n",
    "eventsServicesInput = ''\n"
   ]
  },
  {
   "cell_type": "markdown",
   "id": "fdc85dec-70a4-4f97-9a18-fafdea81252b",
   "metadata": {},
   "source": [
    "## Setup and manipulate the **Pods per Service** File"
   ]
  },
  {
   "cell_type": "code",
   "execution_count": null,
   "id": "b5ae37a2-8744-44d1-ad20-74e842483697",
   "metadata": {},
   "outputs": [],
   "source": [
    "# Read in the first CSV file\n",
    "podInstancesDf = pd.read_csv(podInstancesInput)\n",
    "\n",
    "# print(podInstancesDf.head())\n",
    "with open('column_dtypes.txt', 'w') as file:\n",
    "    file.write(str(podInstancesDf.dtypes))\n"
   ]
  },
  {
   "cell_type": "code",
   "execution_count": null,
   "id": "f971350e-7ad4-44aa-8a2b-5280717901f1",
   "metadata": {
    "tags": []
   },
   "outputs": [],
   "source": [
    "#manipulate the podInstancesDf by adding a date time column and grouping up into 10 minute intervals\n",
    "podInstancesDf['runTime'] = pd.to_datetime(podInstancesDf['Time'], format='%Y-%m-%d %H:%M:%S')\n",
    "\n",
    "# need to drop Time column prior to datamanipulation so it the mean works                             \n",
    "podInstancesDf.drop('Time', axis=1).groupby(pd.Grouper(key=\"runTime\", freq='5Min')).mean()"
   ]
  },
  {
   "cell_type": "markdown",
   "id": "c9177f2a-810d-4b10-9ca0-05233c50b91d",
   "metadata": {},
   "source": [
    "## Setup and manipulate the **Events per Service** File"
   ]
  },
  {
   "cell_type": "code",
   "execution_count": null,
   "id": "f9dd1448-c65b-4026-bd0c-06cea64f330b",
   "metadata": {
    "tags": []
   },
   "outputs": [],
   "source": [
    "# Read in the events per Service File\n",
    "eventsServicesDf = pd.read_csv(eventsServicesInput)\n",
    "print(eventsServicesDf.dtypes)"
   ]
  },
  {
   "cell_type": "code",
   "execution_count": null,
   "id": "63c25a6f-802f-4b3d-9879-e71f64f1ccc2",
   "metadata": {
    "tags": []
   },
   "outputs": [],
   "source": [
    "#manipulate the podInstancesDf by adding a date time column and grouping up into 10 minute intervals\n",
    "eventsServicesDf['runTime'] = pd.to_datetime(eventsServicesDf['Time'], format='%Y-%m-%d %H:%M:%S')\n",
    "eventsServicesDf.drop('Time', axis=1).groupby(pd.Grouper(key=\"runTime\", freq='5Min')).mean()\n"
   ]
  },
  {
   "cell_type": "markdown",
   "id": "5b2d0efc-c08c-40ac-8f4a-0adca40bd7a2",
   "metadata": {},
   "source": [
    "## Join the two files together"
   ]
  },
  {
   "cell_type": "code",
   "execution_count": null,
   "id": "077e36f4-4394-42af-b21e-8565c1067556",
   "metadata": {},
   "outputs": [],
   "source": [
    "# Here we assume 'new_name1' is the common column. Adjust as necessary\n",
    "combinePodEvents = pd.merge(podInstancesDf, eventsServicesDf, on='runTime')\n",
    "\n",
    "thinPodEvents = combinePodEvents[['runTime','Rate of events: ki-features-service','ki-features-service']]\n",
    "print(thinPodEvents.head())"
   ]
  },
  {
   "cell_type": "code",
   "execution_count": null,
   "id": "5e09b64c-c40d-4ce6-8308-759e0f85b395",
   "metadata": {
    "tags": []
   },
   "outputs": [],
   "source": [
    "\n",
    "thinPodEvents[\"ratePerPod\"] = thinPodEvents[\"Rate of events: ki-features-service\"] / thinPodEvents[\"ki-features-service\"]\n",
    "print(thinPodEvents.head())"
   ]
  },
  {
   "cell_type": "code",
   "execution_count": null,
   "id": "7a88e32e-edb5-4796-8996-43821dea9ae6",
   "metadata": {
    "tags": []
   },
   "outputs": [],
   "source": [
    "# Define the bucket range\n",
    "bins = range(1, 202, 20)  # Create bins of size 5 from 0 to 100\n",
    "\n",
    "# Create a new column for the buckets\n",
    "thinPodEvents['podsBucketed'] = pd.cut(thinPodEvents['ki-features-service'], bins=bins, right=False)\n",
    "\n",
    "\n",
    "stats = thinPodEvents.groupby('podsBucketed').agg(\n",
    "    mean=('ratePerPod', 'mean'),\n",
    "    std=('ratePerPod', 'std'),\n",
    "    min=('ratePerPod', 'min'),\n",
    "    max=('ratePerPod', 'max'),\n",
    "    count=('ratePerPod', 'count')\n",
    ").reset_index()"
   ]
  },
  {
   "cell_type": "code",
   "execution_count": null,
   "id": "09423916-b5f2-455a-a5f3-0684efe63d8c",
   "metadata": {
    "tags": []
   },
   "outputs": [],
   "source": [
    "# Plot the statistics\n",
    "fig, ax = plt.subplots()\n",
    "\n",
    "# Plot mean and standard deviation as error bars\n",
    "ax.errorbar(stats['podsBucketed'].astype(str), stats['mean'], yerr=stats['std'], fmt='o', capsize=5, label='Mean with Std Dev')\n",
    "\n",
    "# Plot the count of observations in each bucket\n",
    "ax2 = ax.twinx()\n",
    "ax2.bar(stats['podsBucketed'].astype(str), stats['count'], alpha=0.3, label='Count', color='orange')\n",
    "\n",
    "# Labels and legend\n",
    "ax.set_xlabel('podsBucketed')\n",
    "ax.set_ylabel('Mean Value')\n",
    "ax2.set_ylabel('Count')\n",
    "ax.set_title('Dependent Variable Statistics by Bucket')\n",
    "fig.legend(loc='upper left')\n",
    "\n",
    "# Show plot\n",
    "plt.xticks(rotation=45)\n",
    "plt.show()"
   ]
  },
  {
   "cell_type": "code",
   "execution_count": null,
   "id": "ed4f2f90-1d42-434e-95db-3a533772497c",
   "metadata": {
    "tags": []
   },
   "outputs": [],
   "source": [
    "stats.to_csv('stats.csv', index=False)"
   ]
  },
  {
   "cell_type": "code",
   "execution_count": null,
   "id": "34e668a4-789d-4a56-8c55-8494475ae987",
   "metadata": {
    "tags": []
   },
   "outputs": [],
   "source": [
    "thinPodEvents.to_csv('reviewData.csv', index=False)"
   ]
  },
  {
   "cell_type": "code",
   "execution_count": null,
   "id": "0554ad64-3290-4fe8-a462-5e69b374116e",
   "metadata": {
    "tags": []
   },
   "outputs": [],
   "source": [
    "bins = range(0, 201, 20) \n",
    "for n in bins:\n",
    "  print(n)"
   ]
  }
 ],
 "metadata": {
  "kernelspec": {
   "display_name": "Python 3 (ipykernel)",
   "language": "python",
   "name": "python3"
  },
  "language_info": {
   "codemirror_mode": {
    "name": "ipython",
    "version": 3
   },
   "file_extension": ".py",
   "mimetype": "text/x-python",
   "name": "python",
   "nbconvert_exporter": "python",
   "pygments_lexer": "ipython3",
   "version": "3.11.2"
  }
 },
 "nbformat": 4,
 "nbformat_minor": 5
}
